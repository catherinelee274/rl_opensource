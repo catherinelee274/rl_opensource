{
  "nbformat": 4,
  "nbformat_minor": 0,
  "metadata": {
    "colab": {
      "name": "RL Open Source 2021",
      "provenance": [],
      "collapsed_sections": []
    },
    "kernelspec": {
      "name": "python3",
      "display_name": "Python 3"
    }
  },
  "cells": [
    {
      "cell_type": "code",
      "metadata": {
        "colab": {
          "base_uri": "https://localhost:8080/"
        },
        "id": "pU-0JKSjlTro",
        "outputId": "4f60f045-d69e-40b8-f1d7-e58968ec2869"
      },
      "source": [
        "!pip install vowpalwabbit\r\n"
      ],
      "execution_count": 2,
      "outputs": [
        {
          "output_type": "stream",
          "text": [
            "Collecting vowpalwabbit\n",
            "\u001b[?25l  Downloading https://files.pythonhosted.org/packages/6a/36/cad256884b2ca71e80258b9ecdb530e34ac45fc09fd660f10e90afbf6919/vowpalwabbit-8.9.0-cp37-cp37m-manylinux2010_x86_64.whl (2.2MB)\n",
            "\u001b[K     |████████████████████████████████| 2.2MB 12.3MB/s \n",
            "\u001b[?25hInstalling collected packages: vowpalwabbit\n",
            "Successfully installed vowpalwabbit-8.9.0\n"
          ],
          "name": "stdout"
        }
      ]
    },
    {
      "cell_type": "code",
      "metadata": {
        "id": "QwPrpfB3kq1E"
      },
      "source": [
        "from vowpalwabbit import pyvw\r\n",
        "import random\r\n",
        "import matplotlib.pyplot as plt"
      ],
      "execution_count": 8,
      "outputs": []
    },
    {
      "cell_type": "code",
      "metadata": {
        "id": "XEYMqPT7pEOx"
      },
      "source": [
        "# VW tries to minimize loss/cost, therefore we will pass cost as -reward\r\n",
        "USER_LIKED_ARTICLE = -1.0\r\n",
        "USER_DISLIKED_ARTICLE = 0.0"
      ],
      "execution_count": 24,
      "outputs": []
    },
    {
      "cell_type": "code",
      "metadata": {
        "id": "p7LbhZuLpFG7"
      },
      "source": [
        "def get_cost(context,action):\r\n",
        "    if context['user'] == \"Tom\":\r\n",
        "        if context['time_of_day'] == \"morning\" and action == 'politics':\r\n",
        "            return USER_LIKED_ARTICLE\r\n",
        "        elif context['time_of_day'] == \"afternoon\" and action == 'music':\r\n",
        "            return USER_LIKED_ARTICLE\r\n",
        "        else:\r\n",
        "            return USER_DISLIKED_ARTICLE\r\n",
        "    elif context['user'] == \"Anna\":\r\n",
        "        if context['time_of_day'] == \"morning\" and action == 'sports':\r\n",
        "            return USER_LIKED_ARTICLE\r\n",
        "        elif context['time_of_day'] == \"afternoon\" and action == 'politics':\r\n",
        "            return USER_LIKED_ARTICLE\r\n",
        "        else:\r\n",
        "            return USER_DISLIKED_ARTICLE"
      ],
      "execution_count": 28,
      "outputs": []
    },
    {
      "cell_type": "code",
      "metadata": {
        "colab": {
          "base_uri": "https://localhost:8080/"
        },
        "id": "juK-cQDSpIND",
        "outputId": "a9e6e2a1-c753-4731-f46f-c217f540314c"
      },
      "source": [
        "# This function modifies (context, action, cost, probability) to VW friendly format\r\n",
        "def to_vw_example_format(context, actions, cb_label = None):\r\n",
        "    if cb_label is not None:\r\n",
        "        chosen_action, cost, prob = cb_label\r\n",
        "    example_string = \"\"\r\n",
        "    example_string += \"shared |User user={} time_of_day={}\\n\".format(context[\"user\"], context[\"time_of_day\"])\r\n",
        "    for action in actions:\r\n",
        "        if cb_label is not None and action == chosen_action:\r\n",
        "            example_string += \"0:{}:{} \".format(cost, prob)\r\n",
        "        example_string += \"|Action article={} \\n\".format(action)\r\n",
        "    #Strip the last newline\r\n",
        "    return example_string[:-1]"
      ],
      "execution_count": 26,
      "outputs": [
        {
          "output_type": "stream",
          "text": [
            "shared |User user=Tom time_of_day=morning\n",
            "|Action article=politics \n",
            "|Action article=sports \n",
            "|Action article=music \n",
            "|Action article=food \n"
          ],
          "name": "stdout"
        }
      ]
    },
    {
      "cell_type": "code",
      "metadata": {
        "colab": {
          "base_uri": "https://localhost:8080/"
        },
        "id": "N46jtvE-o8n1",
        "outputId": "f3626bd0-cc45-44d9-d955-7d42eddd8694"
      },
      "source": [
        "context = {\"user\":\"Tom\",\"time_of_day\":\"morning\"}\r\n",
        "actions = [\"politics\", \"sports\", \"music\", \"food\"]\r\n",
        "\r\n",
        "print(to_vw_example_format(context,actions))"
      ],
      "execution_count": 33,
      "outputs": [
        {
          "output_type": "stream",
          "text": [
            "shared |User user=Tom time_of_day=morning\n",
            "|Action article=politics \n",
            "|Action article=sports \n",
            "|Action article=music \n",
            "|Action article=food \n"
          ],
          "name": "stdout"
        }
      ]
    },
    {
      "cell_type": "code",
      "metadata": {
        "id": "TVOfPPhbpNXI"
      },
      "source": [
        "def sample_custom_pmf(pmf):\r\n",
        "    total = sum(pmf)\r\n",
        "    scale = 1 / total\r\n",
        "    pmf = [x * scale for x in pmf]\r\n",
        "    draw = random.random()\r\n",
        "    sum_prob = 0.0\r\n",
        "    for index, prob in enumerate(pmf):\r\n",
        "        sum_prob += prob\r\n",
        "        if(sum_prob > draw):\r\n",
        "            return index, prob"
      ],
      "execution_count": 29,
      "outputs": []
    },
    {
      "cell_type": "code",
      "metadata": {
        "id": "Ctvv1anOheG5"
      },
      "source": [
        "def get_cost_new1(context,action):\r\n",
        "    if context['user'] == \"Tom\":\r\n",
        "        if context['time_of_day'] == \"morning\" and action == 'politics':\r\n",
        "            return USER_LIKED_ARTICLE\r\n",
        "        elif context['time_of_day'] == \"afternoon\" and action == 'sports':\r\n",
        "            return USER_LIKED_ARTICLE\r\n",
        "        else:\r\n",
        "            return USER_DISLIKED_ARTICLE\r\n",
        "    elif context['user'] == \"Anna\":\r\n",
        "        if context['time_of_day'] == \"morning\" and action == 'sports':\r\n",
        "            return USER_LIKED_ARTICLE\r\n",
        "        elif context['time_of_day'] == \"afternoon\" and action == 'sports':\r\n",
        "            return USER_LIKED_ARTICLE\r\n",
        "        else:\r\n",
        "            return USER_DISLIKED_ARTICLE"
      ],
      "execution_count": 50,
      "outputs": []
    },
    {
      "cell_type": "code",
      "metadata": {
        "id": "2fxClonVmU-R"
      },
      "source": [
        "def get_action(vw, context, actions):\r\n",
        "    vw_text_example = to_vw_example_format(context,actions)\r\n",
        "    pmf = vw.predict(vw_text_example)\r\n",
        "    chosen_action_index, prob = sample_custom_pmf(pmf)\r\n",
        "    return actions[chosen_action_index], prob"
      ],
      "execution_count": 34,
      "outputs": []
    },
    {
      "cell_type": "code",
      "metadata": {
        "id": "T51zCJaTo_y0"
      },
      "source": [
        "users = ['Tom', 'Anna']\r\n",
        "times_of_day = ['morning', 'afternoon']\r\n",
        "actions = [\"politics\", \"sports\", \"music\", \"food\", \"finance\", \"health\", \"camping\"]\r\n",
        "\r\n",
        "def choose_user(users):\r\n",
        "    return random.choice(users)\r\n",
        "\r\n",
        "def choose_time_of_day(times_of_day):\r\n",
        "    return random.choice(times_of_day)"
      ],
      "execution_count": 35,
      "outputs": []
    },
    {
      "cell_type": "code",
      "metadata": {
        "id": "OicRUqstlJqE"
      },
      "source": [
        "def run_simulation(vw, num_iterations, users, times_of_day, actions, cost_function, do_learn = True):\r\n",
        "    cost_sum = 0.\r\n",
        "    ctr = []\r\n",
        "\r\n",
        "    for i in range(1, num_iterations+1):\r\n",
        "        # 1. In each simulation choose a user\r\n",
        "        user = choose_user(users)\r\n",
        "        # 2. Choose time of day for a given user\r\n",
        "        time_of_day = choose_time_of_day(times_of_day)\r\n",
        "\r\n",
        "        # 3. Pass context to vw to get an action\r\n",
        "        context = {'user': user, 'time_of_day': time_of_day}\r\n",
        "        action, prob = get_action(vw, context, actions)\r\n",
        "\r\n",
        "        # 4. Get cost of the action we chose\r\n",
        "        cost = cost_function(context, action)\r\n",
        "        cost_sum += cost\r\n",
        "\r\n",
        "        if do_learn:\r\n",
        "            # 5. Inform VW of what happened so we can learn from it\r\n",
        "            vw_format = vw.parse(to_vw_example_format(context, actions, (action, cost, prob)),pyvw.vw.lContextualBandit)\r\n",
        "            # 6. Learn\r\n",
        "            vw.learn(vw_format)\r\n",
        "            # 7. Let VW know you're done with these objects\r\n",
        "            vw.finish_example(vw_format)\r\n",
        "\r\n",
        "        # We negate this so that on the plot instead of minimizing cost, we are maximizing reward\r\n",
        "        ctr.append(-1*cost_sum/i)\r\n",
        "\r\n",
        "    return ctr"
      ],
      "execution_count": 36,
      "outputs": []
    },
    {
      "cell_type": "code",
      "metadata": {
        "id": "v3V0CcyIlZBJ"
      },
      "source": [
        "def plot_ctr(num_iterations, ctr):\r\n",
        "    plt.plot(range(1,num_iterations+1), ctr)\r\n",
        "    plt.xlabel('num_iterations', fontsize=14)\r\n",
        "    plt.ylabel('ctr', fontsize=14)\r\n",
        "    plt.ylim([0,1])"
      ],
      "execution_count": 37,
      "outputs": []
    },
    {
      "cell_type": "code",
      "metadata": {
        "colab": {
          "base_uri": "https://localhost:8080/",
          "height": 286
        },
        "id": "fXbhK1IGla8S",
        "outputId": "14a30b18-2d5c-44c5-aa7b-0213587a3d1b"
      },
      "source": [
        "# Instantiate learner in VW\r\n",
        "vw = pyvw.vw(\"--cb_explore_adf -q UA --quiet --epsilon 0.2\")\r\n",
        "\r\n",
        "num_iterations = 5000\r\n",
        "ctr = run_simulation(vw, num_iterations, users, times_of_day, actions, get_cost)\r\n",
        "\r\n",
        "plot_ctr(num_iterations, ctr)"
      ],
      "execution_count": 38,
      "outputs": [
        {
          "output_type": "display_data",
          "data": {
            "image/png": "[encoded data removed]",
            "text/plain": [
              "<Figure size 432x288 with 1 Axes>"
            ]
          },
          "metadata": {
            "tags": [],
            "needs_background": "light"
          }
        }
      ]
    },
    {
      "cell_type": "code",
      "metadata": {
        "colab": {
          "base_uri": "https://localhost:8080/",
          "height": 286
        },
        "id": "SNb4IktGpTVg",
        "outputId": "fc2e4140-284a-412a-b78a-4faff680c1bf"
      },
      "source": [
        "# Instantiate learner in VW but without -q\r\n",
        "vw = pyvw.vw(\"--cb_explore_adf --quiet --epsilon 0.2\")\r\n",
        "\r\n",
        "num_iterations = 5000\r\n",
        "ctr = run_simulation(vw, num_iterations, users, times_of_day, actions, get_cost)\r\n",
        "\r\n",
        "plot_ctr(num_iterations, ctr)"
      ],
      "execution_count": 39,
      "outputs": [
        {
          "output_type": "display_data",
          "data": {
            "image/png": "[encoded data removed]",
            "text/plain": [
              "<Figure size 432x288 with 1 Axes>"
            ]
          },
          "metadata": {
            "tags": [],
            "needs_background": "light"
          }
        }
      ]
    },
    {
      "cell_type": "code",
      "metadata": {
        "colab": {
          "base_uri": "https://localhost:8080/",
          "height": 286
        },
        "id": "c7zwW14FQteI",
        "outputId": "228deaa5-0991-479f-cc7f-244f4717058d"
      },
      "source": [
        "# Instantiate learner in VW\r\n",
        "vw = pyvw.vw(\"--cb_explore_adf -q UA --quiet --epsilon 0.2\")\r\n",
        "\r\n",
        "num_iterations = 5000\r\n",
        "ctr = run_simulation(vw, num_iterations, users, times_of_day, actions, get_cost, do_learn=False)\r\n",
        "\r\n",
        "plot_ctr(num_iterations, ctr)"
      ],
      "execution_count": 40,
      "outputs": [
        {
          "output_type": "display_data",
          "data": {
            "image/png": "[encoded data removed]",
            "text/plain": [
              "<Figure size 432x288 with 1 Axes>"
            ]
          },
          "metadata": {
            "tags": [],
            "needs_background": "light"
          }
        }
      ]
    },
    {
      "cell_type": "code",
      "metadata": {
        "id": "Q0DaPiryQvF0"
      },
      "source": [
        "def get_cost_new1(context,action):\r\n",
        "    if context['user'] == \"Tom\":\r\n",
        "        if context['time_of_day'] == \"morning\" and action == 'politics':\r\n",
        "            return USER_LIKED_ARTICLE\r\n",
        "        elif context['time_of_day'] == \"afternoon\" and action == 'sports':\r\n",
        "            return USER_LIKED_ARTICLE\r\n",
        "        else:\r\n",
        "            return USER_DISLIKED_ARTICLE\r\n",
        "    elif context['user'] == \"Anna\":\r\n",
        "        if context['time_of_day'] == \"morning\" and action == 'sports':\r\n",
        "            return USER_LIKED_ARTICLE\r\n",
        "        elif context['time_of_day'] == \"afternoon\" and action == 'sports':\r\n",
        "            return USER_LIKED_ARTICLE\r\n",
        "        else:\r\n",
        "            return USER_DISLIKED_ARTICLE"
      ],
      "execution_count": 41,
      "outputs": []
    },
    {
      "cell_type": "code",
      "metadata": {
        "id": "35A1eKrMQyOD"
      },
      "source": [
        "def run_simulation_multiple_cost_functions(vw, num_iterations, users, times_of_day, actions, cost_functions, do_learn = True):\r\n",
        "    cost_sum = 0.\r\n",
        "    ctr = []\r\n",
        "\r\n",
        "    start_counter = 1\r\n",
        "    end_counter = start_counter + num_iterations\r\n",
        "    for cost_function in cost_functions:\r\n",
        "        for i in range(start_counter, end_counter):\r\n",
        "            # 1. in each simulation choose a user\r\n",
        "            user = choose_user(users)\r\n",
        "            # 2. choose time of day for a given user\r\n",
        "            time_of_day = choose_time_of_day(times_of_day)\r\n",
        "\r\n",
        "            # Construct context based on chosen user and time of day\r\n",
        "            context = {'user': user, 'time_of_day': time_of_day}\r\n",
        "\r\n",
        "            # 3. Use the get_action function we defined earlier\r\n",
        "            action, prob = get_action(vw, context, actions)\r\n",
        "\r\n",
        "            # 4. Get cost of the action we chose\r\n",
        "            cost = cost_function(context, action)\r\n",
        "            cost_sum += cost\r\n",
        "\r\n",
        "            if do_learn:\r\n",
        "                # 5. Inform VW of what happened so we can learn from it\r\n",
        "                vw_format = vw.parse(to_vw_example_format(context, actions, (action, cost, prob)),pyvw.vw.lContextualBandit)\r\n",
        "                # 6. Learn\r\n",
        "                vw.learn(vw_format)\r\n",
        "\r\n",
        "            # We negate this so that on the plot instead of minimizing cost, we are maximizing reward\r\n",
        "            ctr.append(-1*cost_sum/i)\r\n",
        "        start_counter = end_counter\r\n",
        "        end_counter = start_counter + num_iterations\r\n",
        "\r\n",
        "    return ctr"
      ],
      "execution_count": 42,
      "outputs": []
    },
    {
      "cell_type": "code",
      "metadata": {
        "id": "q4SA0MgOQyQv"
      },
      "source": [
        ""
      ],
      "execution_count": 51,
      "outputs": []
    },
    {
      "cell_type": "code",
      "metadata": {
        "colab": {
          "base_uri": "https://localhost:8080/",
          "height": 286
        },
        "id": "3f22GRocQyTw",
        "outputId": "3e6bd597-1477-4aa4-d687-1cdc21dcffb1"
      },
      "source": [
        "# use first reward function initially and then switch to second reward function\r\n",
        "\r\n",
        "# Instantiate learner in VW\r\n",
        "vw = pyvw.vw(\"--cb_explore_adf -q UA --quiet --epsilon 0.2\")\r\n",
        "\r\n",
        "num_iterations_per_cost_func = 5000\r\n",
        "cost_functions = [get_cost, get_cost_new1]\r\n",
        "total_iterations = num_iterations_per_cost_func * len(cost_functions)\r\n",
        "\r\n",
        "ctr = run_simulation_multiple_cost_functions(vw, num_iterations_per_cost_func, users, times_of_day, actions, cost_functions)\r\n",
        "\r\n",
        "plot_ctr(total_iterations, ctr)"
      ],
      "execution_count": 44,
      "outputs": [
        {
          "output_type": "display_data",
          "data": {
            "image/png": "[encoded data removed]",
            "text/plain": [
              "<Figure size 432x288 with 1 Axes>"
            ]
          },
          "metadata": {
            "tags": [],
            "needs_background": "light"
          }
        }
      ]
    },
    {
      "cell_type": "code",
      "metadata": {
        "colab": {
          "base_uri": "https://localhost:8080/",
          "height": 411
        },
        "id": "tAwtmhwYQyee",
        "outputId": "33d4d449-82f3-496f-f5e1-80181a0ef6b3"
      },
      "source": [
        "# Instantiate learner in VW\r\n",
        "vw = pyvw.vw(\"--cb_explore_adf -q UA --quiet --first 2\")\r\n",
        "\r\n",
        "num_iterations_per_cost_func = 5000\r\n",
        "cost_functions = [get_cost, get_cost_new1]\r\n",
        "total_iterations = num_iterations_per_cost_func * len(cost_functions)\r\n",
        "\r\n",
        "ctr = run_simulation_multiple_cost_functions(vw, num_iterations_per_cost_func, users, times_of_day, actions, cost_functions)\r\n",
        "\r\n",
        "plot_ctr(total_iterations, ctr)"
      ],
      "execution_count": 47,
      "outputs": [
        {
          "output_type": "display_data",
          "data": {
            "image/png": "[encoded data removed]",
            "text/plain": [
              "<Figure size 432x288 with 1 Axes>"
            ]
          },
          "metadata": {
            "tags": [],
            "needs_background": "light"
          }
        },
        {
          "output_type": "stream",
          "text": [
            "Exception ignored in: <function vw.__del__ at 0x7f58474ddf80>\n",
            "Traceback (most recent call last):\n",
            "  File \"/usr/local/lib/python3.7/dist-packages/vowpalwabbit/pyvw.py\", line 516, in __del__\n",
            "    self.finish()\n",
            "  File \"/usr/local/lib/python3.7/dist-packages/vowpalwabbit/pyvw.py\", line 482, in finish\n",
            "    if not self.finished:\n",
            "AttributeError: 'vw' object has no attribute 'finished'\n"
          ],
          "name": "stderr"
        }
      ]
    },
    {
      "cell_type": "code",
      "metadata": {
        "colab": {
          "base_uri": "https://localhost:8080/",
          "height": 286
        },
        "id": "nugSvCUte-yv",
        "outputId": "27552a0c-da4b-4369-ed0b-32fa58d8484e"
      },
      "source": [
        "# Instantiate learner in VW\r\n",
        "vw = pyvw.vw(\"--cb_explore_adf -q UA --quiet --bag 5\")\r\n",
        "\r\n",
        "num_iterations_per_cost_func = 5000\r\n",
        "cost_functions = [get_cost, get_cost_new1]\r\n",
        "total_iterations = num_iterations_per_cost_func * len(cost_functions)\r\n",
        "\r\n",
        "ctr = run_simulation_multiple_cost_functions(vw, num_iterations_per_cost_func, users, times_of_day, actions, cost_functions)\r\n",
        "\r\n",
        "plot_ctr(total_iterations, ctr)\r\n"
      ],
      "execution_count": 48,
      "outputs": [
        {
          "output_type": "display_data",
          "data": {
            "image/png": "[encoded data removed]",
            "text/plain": [
              "<Figure size 432x288 with 1 Axes>"
            ]
          },
          "metadata": {
            "tags": [],
            "needs_background": "light"
          }
        }
      ]
    },
    {
      "cell_type": "code",
      "metadata": {
        "colab": {
          "base_uri": "https://localhost:8080/",
          "height": 286
        },
        "id": "eL1Fns7qfEoq",
        "outputId": "688067bf-edb3-4444-d074-6721e78c7b4b"
      },
      "source": [
        "# Instantiate learner in VW\r\n",
        "vw = pyvw.vw(\"--cb_explore_adf -q UA --quiet --lambda 10\")\r\n",
        "\r\n",
        "num_iterations_per_cost_func = 5000\r\n",
        "cost_functions = [get_cost, get_cost_new1]\r\n",
        "total_iterations = num_iterations_per_cost_func * len(cost_functions)\r\n",
        "\r\n",
        "ctr = run_simulation_multiple_cost_functions(vw, num_iterations_per_cost_func, users, times_of_day, actions, cost_functions)\r\n",
        "\r\n",
        "plot_ctr(total_iterations, ctr)"
      ],
      "execution_count": 49,
      "outputs": [
        {
          "output_type": "display_data",
          "data": {
            "image/png": "[encoded data removed]",
            "text/plain": [
              "<Figure size 432x288 with 1 Axes>"
            ]
          },
          "metadata": {
            "tags": [],
            "needs_background": "light"
          }
        }
      ]
    },
    {
      "cell_type": "code",
      "metadata": {
        "id": "8DKe8rVafKRm"
      },
      "source": [
        ""
      ],
      "execution_count": null,
      "outputs": []
    },
    {
      "cell_type": "code",
      "metadata": {
        "id": "UJ6jTlZzlc1q"
      },
      "source": [
        "# Modify the second scenario in the following ways:\r\n",
        "\r\n",
        "# Add multiple changes to the reward distribution over time\r\n",
        "# Introduce varying noise in the reward distribution\r\n",
        "# Run this new simulator with different exploration algorithms and vizualize and compare their performance.\r\n"
      ],
      "execution_count": 51,
      "outputs": []
    },
    {
      "cell_type": "code",
      "metadata": {
        "id": "DgzKNReXkror"
      },
      "source": [
        ""
      ],
      "execution_count": null,
      "outputs": []
    }
  ]
}